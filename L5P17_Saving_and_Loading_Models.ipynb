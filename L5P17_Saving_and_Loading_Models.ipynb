{
  "nbformat": 4,
  "nbformat_minor": 0,
  "metadata": {
    "kernelspec": {
      "display_name": "Python 3",
      "language": "python",
      "name": "python3"
    },
    "language_info": {
      "codemirror_mode": {
        "name": "ipython",
        "version": 3
      },
      "file_extension": ".py",
      "mimetype": "text/x-python",
      "name": "python",
      "nbconvert_exporter": "python",
      "pygments_lexer": "ipython3",
      "version": "3.6.6"
    },
    "colab": {
      "name": "L5P17 - Saving and Loading Models.ipynb",
      "provenance": [],
      "collapsed_sections": []
    }
  },
  "cells": [
    {
      "cell_type": "code",
      "metadata": {
        "id": "1C_0FnF6IJW7",
        "colab_type": "code",
        "colab": {
          "base_uri": "https://localhost:8080/",
          "height": 360
        },
        "outputId": "b5b96568-853d-40df-eb2c-81f943a0eae2"
      },
      "source": [
        "!pip install torch\n",
        "!pip install torchvision\n",
        "!wget https://raw.githubusercontent.com/udacity/deep-learning-v2-pytorch/3bd7dea850e936d8cb44adda8200e4e2b5d627e3/intro-to-pytorch/helper.py\n"
      ],
      "execution_count": 1,
      "outputs": [
        {
          "output_type": "stream",
          "text": [
            "Requirement already satisfied: torch in /usr/local/lib/python3.6/dist-packages (1.3.1)\n",
            "Requirement already satisfied: numpy in /usr/local/lib/python3.6/dist-packages (from torch) (1.17.4)\n",
            "Requirement already satisfied: torchvision in /usr/local/lib/python3.6/dist-packages (0.4.2)\n",
            "Requirement already satisfied: numpy in /usr/local/lib/python3.6/dist-packages (from torchvision) (1.17.4)\n",
            "Requirement already satisfied: six in /usr/local/lib/python3.6/dist-packages (from torchvision) (1.12.0)\n",
            "Requirement already satisfied: torch==1.3.1 in /usr/local/lib/python3.6/dist-packages (from torchvision) (1.3.1)\n",
            "Requirement already satisfied: pillow>=4.1.1 in /usr/local/lib/python3.6/dist-packages (from torchvision) (4.3.0)\n",
            "Requirement already satisfied: olefile in /usr/local/lib/python3.6/dist-packages (from pillow>=4.1.1->torchvision) (0.46)\n",
            "--2019-12-15 01:27:39--  https://raw.githubusercontent.com/udacity/deep-learning-v2-pytorch/3bd7dea850e936d8cb44adda8200e4e2b5d627e3/intro-to-pytorch/helper.py\n",
            "Resolving raw.githubusercontent.com (raw.githubusercontent.com)... 151.101.0.133, 151.101.64.133, 151.101.128.133, ...\n",
            "Connecting to raw.githubusercontent.com (raw.githubusercontent.com)|151.101.0.133|:443... connected.\n",
            "HTTP request sent, awaiting response... 200 OK\n",
            "Length: 2813 (2.7K) [text/plain]\n",
            "Saving to: ‘helper.py.7’\n",
            "\n",
            "helper.py.7         100%[===================>]   2.75K  --.-KB/s    in 0s      \n",
            "\n",
            "2019-12-15 01:27:39 (64.2 MB/s) - ‘helper.py.7’ saved [2813/2813]\n",
            "\n"
          ],
          "name": "stdout"
        }
      ]
    },
    {
      "cell_type": "markdown",
      "metadata": {
        "id": "Vp6aUeECGUZp",
        "colab_type": "text"
      },
      "source": [
        "# Saving and Loading Models\n",
        "\n",
        "In this notebook, I'll show you how to save and load models with PyTorch. This is important because you'll often want to load previously trained models to use in making predictions or to continue training on new data."
      ]
    },
    {
      "cell_type": "code",
      "metadata": {
        "id": "MVXhlrTmGUZv",
        "colab_type": "code",
        "colab": {}
      },
      "source": [
        "%matplotlib inline\n",
        "%config InlineBackend.figure_format = 'retina'\n",
        "\n",
        "import matplotlib.pyplot as plt\n",
        "\n",
        "import torch\n",
        "from torch import nn\n",
        "from torch import optim\n",
        "import torch.nn.functional as F\n",
        "from torchvision import datasets, transforms\n",
        "\n",
        "import helper\n",
        "import fc_model"
      ],
      "execution_count": 0,
      "outputs": []
    },
    {
      "cell_type": "code",
      "metadata": {
        "id": "TMkoqGNHGUZ8",
        "colab_type": "code",
        "colab": {}
      },
      "source": [
        "# Define a transform to normalize the data\n",
        "transform = transforms.Compose([transforms.ToTensor(),\n",
        "                                transforms.Normalize((0.5,), (0.5,))])\n",
        "# Download and load the training data\n",
        "trainset = datasets.FashionMNIST('~/.pytorch/F_MNIST_data/', download=True, train=True, transform=transform)\n",
        "trainloader = torch.utils.data.DataLoader(trainset, batch_size=64, shuffle=True)\n",
        "\n",
        "# Download and load the test data\n",
        "testset = datasets.FashionMNIST('~/.pytorch/F_MNIST_data/', download=True, train=False, transform=transform)\n",
        "testloader = torch.utils.data.DataLoader(testset, batch_size=64, shuffle=True)"
      ],
      "execution_count": 0,
      "outputs": []
    },
    {
      "cell_type": "markdown",
      "metadata": {
        "id": "wQ2Qp8uAGUaF",
        "colab_type": "text"
      },
      "source": [
        "Here we can see one of the images."
      ]
    },
    {
      "cell_type": "code",
      "metadata": {
        "id": "G_cYqtnFGUaJ",
        "colab_type": "code",
        "outputId": "5e409690-da7f-48d9-cf68-694d46599b4b",
        "colab": {
          "base_uri": "https://localhost:8080/",
          "height": 248
        }
      },
      "source": [
        "image, label = next(iter(trainloader))\n",
        "helper.imshow(image[0,:]);"
      ],
      "execution_count": 4,
      "outputs": [
        {
          "output_type": "display_data",
          "data": {
            "image/png": "[encoded data removed]",
            "text/plain": [
              "<Figure size 432x288 with 1 Axes>"
            ]
          },
          "metadata": {
            "tags": [],
            "image/png": {
              "width": 231,
              "height": 231
            }
          }
        }
      ]
    },
    {
      "cell_type": "markdown",
      "metadata": {
        "id": "SZNGTi4EGUaR",
        "colab_type": "text"
      },
      "source": [
        "# Train a network\n",
        "\n",
        "To make things more concise here, I moved the model architecture and training code from the last part to a file called `fc_model`. Importing this, we can easily create a fully-connected network with `fc_model.Network`, and train the network using `fc_model.train`. I'll use this model (once it's trained) to demonstrate how we can save and load models."
      ]
    },
    {
      "cell_type": "code",
      "metadata": {
        "id": "UCnGa45DGUaU",
        "colab_type": "code",
        "colab": {}
      },
      "source": [
        "# Create the network, define the criterion and optimizer\n",
        "\n",
        "model = fc_model.Network(784, 10, [512, 256, 128])\n",
        "criterion = nn.NLLLoss()\n",
        "optimizer = optim.Adam(model.parameters(), lr=0.001)"
      ],
      "execution_count": 0,
      "outputs": []
    },
    {
      "cell_type": "code",
      "metadata": {
        "id": "tXnPQzGfGUaa",
        "colab_type": "code",
        "colab": {
          "base_uri": "https://localhost:8080/",
          "height": 799
        },
        "outputId": "2d85eaca-4374-4bd0-ad51-c464ebeba5ef"
      },
      "source": [
        "fc_model.train(model, trainloader, testloader, criterion, optimizer, epochs=2)"
      ],
      "execution_count": 6,
      "outputs": [
        {
          "output_type": "stream",
          "text": [
            "Epoch: 1/2..  Training Loss: 1.708..  Test Loss: 1.006..  Test Accuracy: 0.576\n",
            "Epoch: 1/2..  Training Loss: 1.052..  Test Loss: 0.764..  Test Accuracy: 0.709\n",
            "Epoch: 1/2..  Training Loss: 0.907..  Test Loss: 0.679..  Test Accuracy: 0.740\n",
            "Epoch: 1/2..  Training Loss: 0.766..  Test Loss: 0.637..  Test Accuracy: 0.756\n",
            "Epoch: 1/2..  Training Loss: 0.790..  Test Loss: 0.628..  Test Accuracy: 0.753\n",
            "Epoch: 1/2..  Training Loss: 0.757..  Test Loss: 0.609..  Test Accuracy: 0.766\n",
            "Epoch: 1/2..  Training Loss: 0.703..  Test Loss: 0.583..  Test Accuracy: 0.778\n",
            "Epoch: 1/2..  Training Loss: 0.664..  Test Loss: 0.591..  Test Accuracy: 0.777\n",
            "Epoch: 1/2..  Training Loss: 0.692..  Test Loss: 0.562..  Test Accuracy: 0.788\n",
            "Epoch: 1/2..  Training Loss: 0.648..  Test Loss: 0.554..  Test Accuracy: 0.787\n",
            "Epoch: 1/2..  Training Loss: 0.611..  Test Loss: 0.553..  Test Accuracy: 0.785\n",
            "Epoch: 1/2..  Training Loss: 0.627..  Test Loss: 0.536..  Test Accuracy: 0.799\n",
            "Epoch: 1/2..  Training Loss: 0.623..  Test Loss: 0.543..  Test Accuracy: 0.791\n",
            "Epoch: 1/2..  Training Loss: 0.605..  Test Loss: 0.530..  Test Accuracy: 0.797\n",
            "Epoch: 1/2..  Training Loss: 0.636..  Test Loss: 0.525..  Test Accuracy: 0.801\n",
            "Epoch: 1/2..  Training Loss: 0.598..  Test Loss: 0.507..  Test Accuracy: 0.817\n",
            "Epoch: 1/2..  Training Loss: 0.598..  Test Loss: 0.518..  Test Accuracy: 0.811\n",
            "Epoch: 1/2..  Training Loss: 0.575..  Test Loss: 0.494..  Test Accuracy: 0.818\n",
            "Epoch: 1/2..  Training Loss: 0.591..  Test Loss: 0.530..  Test Accuracy: 0.814\n",
            "Epoch: 1/2..  Training Loss: 0.557..  Test Loss: 0.497..  Test Accuracy: 0.813\n",
            "Epoch: 1/2..  Training Loss: 0.571..  Test Loss: 0.493..  Test Accuracy: 0.817\n",
            "Epoch: 1/2..  Training Loss: 0.599..  Test Loss: 0.488..  Test Accuracy: 0.820\n",
            "Epoch: 1/2..  Training Loss: 0.596..  Test Loss: 0.486..  Test Accuracy: 0.821\n",
            "Epoch: 2/2..  Training Loss: 0.569..  Test Loss: 0.479..  Test Accuracy: 0.823\n",
            "Epoch: 2/2..  Training Loss: 0.593..  Test Loss: 0.476..  Test Accuracy: 0.826\n",
            "Epoch: 2/2..  Training Loss: 0.539..  Test Loss: 0.501..  Test Accuracy: 0.820\n",
            "Epoch: 2/2..  Training Loss: 0.563..  Test Loss: 0.479..  Test Accuracy: 0.821\n",
            "Epoch: 2/2..  Training Loss: 0.569..  Test Loss: 0.464..  Test Accuracy: 0.826\n",
            "Epoch: 2/2..  Training Loss: 0.554..  Test Loss: 0.474..  Test Accuracy: 0.826\n",
            "Epoch: 2/2..  Training Loss: 0.540..  Test Loss: 0.489..  Test Accuracy: 0.822\n",
            "Epoch: 2/2..  Training Loss: 0.571..  Test Loss: 0.466..  Test Accuracy: 0.831\n",
            "Epoch: 2/2..  Training Loss: 0.507..  Test Loss: 0.484..  Test Accuracy: 0.830\n",
            "Epoch: 2/2..  Training Loss: 0.542..  Test Loss: 0.466..  Test Accuracy: 0.830\n",
            "Epoch: 2/2..  Training Loss: 0.575..  Test Loss: 0.464..  Test Accuracy: 0.830\n",
            "Epoch: 2/2..  Training Loss: 0.529..  Test Loss: 0.477..  Test Accuracy: 0.823\n",
            "Epoch: 2/2..  Training Loss: 0.535..  Test Loss: 0.476..  Test Accuracy: 0.825\n",
            "Epoch: 2/2..  Training Loss: 0.522..  Test Loss: 0.488..  Test Accuracy: 0.826\n",
            "Epoch: 2/2..  Training Loss: 0.538..  Test Loss: 0.456..  Test Accuracy: 0.834\n",
            "Epoch: 2/2..  Training Loss: 0.520..  Test Loss: 0.448..  Test Accuracy: 0.840\n",
            "Epoch: 2/2..  Training Loss: 0.513..  Test Loss: 0.452..  Test Accuracy: 0.836\n",
            "Epoch: 2/2..  Training Loss: 0.525..  Test Loss: 0.458..  Test Accuracy: 0.834\n",
            "Epoch: 2/2..  Training Loss: 0.544..  Test Loss: 0.458..  Test Accuracy: 0.833\n",
            "Epoch: 2/2..  Training Loss: 0.534..  Test Loss: 0.449..  Test Accuracy: 0.838\n",
            "Epoch: 2/2..  Training Loss: 0.526..  Test Loss: 0.454..  Test Accuracy: 0.832\n",
            "Epoch: 2/2..  Training Loss: 0.507..  Test Loss: 0.459..  Test Accuracy: 0.833\n",
            "Epoch: 2/2..  Training Loss: 0.540..  Test Loss: 0.460..  Test Accuracy: 0.833\n"
          ],
          "name": "stdout"
        }
      ]
    },
    {
      "cell_type": "markdown",
      "metadata": {
        "id": "PXo0S2JWGUad",
        "colab_type": "text"
      },
      "source": [
        "## Saving and loading networks\n",
        "\n",
        "As you can imagine, it's impractical to train a network every time you need to use it. Instead, we can save trained networks then load them later to train more or use them for predictions.\n",
        "\n",
        "The parameters for PyTorch networks are stored in a model's `state_dict`. We can see the state dict contains the weight and bias matrices for each of our layers."
      ]
    },
    {
      "cell_type": "code",
      "metadata": {
        "id": "R1HiBUhnGUae",
        "colab_type": "code",
        "colab": {
          "base_uri": "https://localhost:8080/",
          "height": 292
        },
        "outputId": "d2587675-0f1a-4f26-968c-10d121c23460"
      },
      "source": [
        "print(\"Our model: \\n\\n\", model, '\\n')\n",
        "print(\"The state dict keys: \\n\\n\", model.state_dict().keys())"
      ],
      "execution_count": 7,
      "outputs": [
        {
          "output_type": "stream",
          "text": [
            "Our model: \n",
            "\n",
            " Network(\n",
            "  (hidden_layers): ModuleList(\n",
            "    (0): Linear(in_features=784, out_features=512, bias=True)\n",
            "    (1): Linear(in_features=512, out_features=256, bias=True)\n",
            "    (2): Linear(in_features=256, out_features=128, bias=True)\n",
            "  )\n",
            "  (output): Linear(in_features=128, out_features=10, bias=True)\n",
            "  (dropout): Dropout(p=0.5, inplace=False)\n",
            ") \n",
            "\n",
            "The state dict keys: \n",
            "\n",
            " odict_keys(['hidden_layers.0.weight', 'hidden_layers.0.bias', 'hidden_layers.1.weight', 'hidden_layers.1.bias', 'hidden_layers.2.weight', 'hidden_layers.2.bias', 'output.weight', 'output.bias'])\n"
          ],
          "name": "stdout"
        }
      ]
    },
    {
      "cell_type": "markdown",
      "metadata": {
        "id": "tnDBBJvUGUah",
        "colab_type": "text"
      },
      "source": [
        "The simplest thing to do is simply save the state dict with `torch.save`. For example, we can save it to a file `'checkpoint.pth'`."
      ]
    },
    {
      "cell_type": "code",
      "metadata": {
        "id": "jg3r3Iq4GUai",
        "colab_type": "code",
        "colab": {}
      },
      "source": [
        "torch.save(model.state_dict(), 'checkpoint.pth')"
      ],
      "execution_count": 0,
      "outputs": []
    },
    {
      "cell_type": "markdown",
      "metadata": {
        "id": "aLFJwDj2GUak",
        "colab_type": "text"
      },
      "source": [
        "Then we can load the state dict with `torch.load`."
      ]
    },
    {
      "cell_type": "code",
      "metadata": {
        "id": "g5IoWAXaGUam",
        "colab_type": "code",
        "colab": {
          "base_uri": "https://localhost:8080/",
          "height": 54
        },
        "outputId": "0620b898-1c12-45ab-9e97-910818a06444"
      },
      "source": [
        "state_dict = torch.load('checkpoint.pth')\n",
        "print(state_dict.keys())"
      ],
      "execution_count": 9,
      "outputs": [
        {
          "output_type": "stream",
          "text": [
            "odict_keys(['hidden_layers.0.weight', 'hidden_layers.0.bias', 'hidden_layers.1.weight', 'hidden_layers.1.bias', 'hidden_layers.2.weight', 'hidden_layers.2.bias', 'output.weight', 'output.bias'])\n"
          ],
          "name": "stdout"
        }
      ]
    },
    {
      "cell_type": "markdown",
      "metadata": {
        "id": "j0hroWsTGUao",
        "colab_type": "text"
      },
      "source": [
        "And to load the state dict in to the network, you do `model.load_state_dict(state_dict)`."
      ]
    },
    {
      "cell_type": "code",
      "metadata": {
        "id": "Pltcc8PKGUao",
        "colab_type": "code",
        "colab": {
          "base_uri": "https://localhost:8080/",
          "height": 34
        },
        "outputId": "3f475f14-1525-4994-d766-83797f05228e"
      },
      "source": [
        "model.load_state_dict(state_dict)"
      ],
      "execution_count": 10,
      "outputs": [
        {
          "output_type": "execute_result",
          "data": {
            "text/plain": [
              "<All keys matched successfully>"
            ]
          },
          "metadata": {
            "tags": []
          },
          "execution_count": 10
        }
      ]
    },
    {
      "cell_type": "markdown",
      "metadata": {
        "id": "64Gc6IfEGUaq",
        "colab_type": "text"
      },
      "source": [
        "Seems pretty straightforward, but as usual it's a bit more complicated. Loading the state dict works only if the model architecture is exactly the same as the checkpoint architecture. If I create a model with a different architecture, this fails."
      ]
    },
    {
      "cell_type": "code",
      "metadata": {
        "id": "4QxCtOSAGUar",
        "colab_type": "code",
        "colab": {
          "base_uri": "https://localhost:8080/",
          "height": 34
        },
        "outputId": "c79e9e12-6372-4e58-812a-20bd7999a4ab"
      },
      "source": [
        "# Try this\n",
        "model = fc_model.Network(784, 10, [512, 256, 128])\n",
        "# This will throw an error because the tensor sizes are wrong!\n",
        "model.load_state_dict(state_dict)"
      ],
      "execution_count": 15,
      "outputs": [
        {
          "output_type": "execute_result",
          "data": {
            "text/plain": [
              "<All keys matched successfully>"
            ]
          },
          "metadata": {
            "tags": []
          },
          "execution_count": 15
        }
      ]
    },
    {
      "cell_type": "markdown",
      "metadata": {
        "id": "hmIKpyQJGUau",
        "colab_type": "text"
      },
      "source": [
        "This means we need to rebuild the model exactly as it was when trained. Information about the model architecture needs to be saved in the checkpoint, along with the state dict. To do this, you build a dictionary with all the information you need to compeletely rebuild the model."
      ]
    },
    {
      "cell_type": "code",
      "metadata": {
        "id": "kapGpIzfGUau",
        "colab_type": "code",
        "colab": {}
      },
      "source": [
        "checkpoint = {'input_size': 784,\n",
        "              'output_size': 10,\n",
        "              'hidden_layers': [each.out_features for each in model.hidden_layers],\n",
        "              'state_dict': model.state_dict()}\n",
        "\n",
        "torch.save(checkpoint, 'checkpoint.pth')"
      ],
      "execution_count": 0,
      "outputs": []
    },
    {
      "cell_type": "markdown",
      "metadata": {
        "id": "OYAW8SZ2GUaw",
        "colab_type": "text"
      },
      "source": [
        "Now the checkpoint has all the necessary information to rebuild the trained model. You can easily make that a function if you want. Similarly, we can write a function to load checkpoints. "
      ]
    },
    {
      "cell_type": "code",
      "metadata": {
        "id": "fp6grXXtGUax",
        "colab_type": "code",
        "colab": {}
      },
      "source": [
        "def load_checkpoint(filepath):\n",
        "    checkpoint = torch.load(filepath)\n",
        "    model = fc_model.Network(checkpoint['input_size'],\n",
        "                             checkpoint['output_size'],\n",
        "                             checkpoint['hidden_layers'])\n",
        "    model.load_state_dict(checkpoint['state_dict'])\n",
        "    \n",
        "    return model"
      ],
      "execution_count": 0,
      "outputs": []
    },
    {
      "cell_type": "code",
      "metadata": {
        "id": "J6jZr_B-GUay",
        "colab_type": "code",
        "colab": {
          "base_uri": "https://localhost:8080/",
          "height": 170
        },
        "outputId": "59efa9a1-688d-44c9-fa88-b1c640c046d7"
      },
      "source": [
        "model = load_checkpoint('checkpoint.pth')\n",
        "print(model)"
      ],
      "execution_count": 18,
      "outputs": [
        {
          "output_type": "stream",
          "text": [
            "Network(\n",
            "  (hidden_layers): ModuleList(\n",
            "    (0): Linear(in_features=784, out_features=512, bias=True)\n",
            "    (1): Linear(in_features=512, out_features=256, bias=True)\n",
            "    (2): Linear(in_features=256, out_features=128, bias=True)\n",
            "  )\n",
            "  (output): Linear(in_features=128, out_features=10, bias=True)\n",
            "  (dropout): Dropout(p=0.5, inplace=False)\n",
            ")\n"
          ],
          "name": "stdout"
        }
      ]
    },
    {
      "cell_type": "code",
      "metadata": {
        "id": "lrfqxGh3MJn6",
        "colab_type": "code",
        "colab": {}
      },
      "source": [
        ""
      ],
      "execution_count": 0,
      "outputs": []
    }
  ]
}